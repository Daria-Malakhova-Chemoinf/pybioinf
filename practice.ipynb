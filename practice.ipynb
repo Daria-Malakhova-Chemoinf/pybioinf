{
 "cells": [
  {
   "cell_type": "code",
   "execution_count": 1,
   "metadata": {},
   "outputs": [],
   "source": [
    "from codon.sequence import Sequence\n"
   ]
  },
  {
   "cell_type": "markdown",
   "metadata": {},
   "source": [
    "## Читаем последовательность из файла "
   ]
  },
  {
   "cell_type": "code",
   "execution_count": 2,
   "metadata": {},
   "outputs": [],
   "source": [
    "seq1 = Sequence('data/Sequence1.txt')"
   ]
  },
  {
   "cell_type": "code",
   "execution_count": 4,
   "metadata": {},
   "outputs": [
    {
     "name": "stdout",
     "output_type": "stream",
     "text": [
      "ATGCGAACTTCATATCTACTGCTATTCACCCTGTGCCTGCTCCTATCGGAGATGGCGAGCGGCGGTAATTTCTTAACGGGACTAGGGCATAGGAGTGACCACTACAATTGTGTTTCTAGTGGCGGGCAATGTCTCTACAGCGCCTGTCCGATATTTACGAAAATTCAAGGAACGTGCTACAGAGGGAAGGCTAAATGTTGCAAG\n"
     ]
    }
   ],
   "source": [
    "print(seq1)"
   ]
  },
  {
   "cell_type": "markdown",
   "metadata": {},
   "source": [
    "## 1. Транскрипция. \n",
    "Переводим код ДНК в код РНК"
   ]
  },
  {
   "cell_type": "code",
   "execution_count": 5,
   "metadata": {},
   "outputs": [
    {
     "data": {
      "text/plain": [
       "'AUGCGAACUUCAUAUCUACUGCUAUUCACCCUGUGCCUGCUCCUAUCGGAGAUGGCGAGCGGCGGUAAUUUCUUAACGGGACUAGGGCAUAGGAGUGACCACUACAAUUGUGUUUCUAGUGGCGGGCAAUGUCUCUACAGCGCCUGUCCGAUAUUUACGAAAAUUCAAGGAACGUGCUACAGAGGGAAGGCUAAAUGUUGCAAG'"
      ]
     },
     "execution_count": 5,
     "metadata": {},
     "output_type": "execute_result"
    }
   ],
   "source": [
    "# TODO function to_rna\n",
    "seq1.seq.replace('T', 'U')"
   ]
  },
  {
   "cell_type": "markdown",
   "metadata": {},
   "source": [
    "## 2. Трансляция. \n",
    "Переводим в код белка"
   ]
  },
  {
   "cell_type": "code",
   "execution_count": 12,
   "metadata": {},
   "outputs": [
    {
     "data": {
      "text/plain": [
       "MRTSYLLLFTLCLLLSEMASGGNFLTGLGHRSDHYNCVSSGGQCLYSACPIFTKIQGTCYRGKAKCCK"
      ]
     },
     "execution_count": 12,
     "metadata": {},
     "output_type": "execute_result"
    }
   ],
   "source": [
    "codon1 = Sequence(seq1)\n",
    "codon1"
   ]
  },
  {
   "cell_type": "markdown",
   "metadata": {},
   "source": [
    "## 3. Посчитаем встречаемость\n",
    "### а) каждой аминокислоты"
   ]
  },
  {
   "cell_type": "code",
   "execution_count": 5,
   "metadata": {},
   "outputs": [
    {
     "data": {
      "text/plain": [
       "Counter({'A': 52, 'T': 53, 'G': 54, 'C': 45})"
      ]
     },
     "execution_count": 5,
     "metadata": {},
     "output_type": "execute_result"
    }
   ],
   "source": [
    "codon1.nucleotide_counter"
   ]
  },
  {
   "cell_type": "markdown",
   "metadata": {},
   "source": [
    "Общее количество аминокислот"
   ]
  },
  {
   "cell_type": "code",
   "execution_count": 6,
   "metadata": {},
   "outputs": [],
   "source": [
    "total = len(codon1.seq)"
   ]
  },
  {
   "cell_type": "markdown",
   "metadata": {},
   "source": [
    "### б) GС \n",
    "(почему GС - они дают три водородные связи и дают\n",
    "термоустойчивость ДНК, это важно для отжига праймеров для ПЦР)"
   ]
  },
  {
   "cell_type": "code",
   "execution_count": 7,
   "metadata": {},
   "outputs": [
    {
     "data": {
      "text/plain": [
       "99"
      ]
     },
     "execution_count": 7,
     "metadata": {},
     "output_type": "execute_result"
    }
   ],
   "source": [
    "gc = codon1.nucleotide_counter['G'] + codon1.nucleotide_counter['C']\n",
    "gc"
   ]
  },
  {
   "cell_type": "markdown",
   "metadata": {},
   "source": [
    "Найдем количество вхождений подпоследовательности 'GC' в исходной последовательности"
   ]
  },
  {
   "cell_type": "code",
   "execution_count": 8,
   "metadata": {},
   "outputs": [
    {
     "data": {
      "text/plain": [
       "15"
      ]
     },
     "execution_count": 8,
     "metadata": {},
     "output_type": "execute_result"
    }
   ],
   "source": [
    "codon1.seq.count('GC')"
   ]
  },
  {
   "cell_type": "markdown",
   "metadata": {},
   "source": [
    "Посчитаем долю встречаемости аминокислот G и С в  исходной последовательности"
   ]
  },
  {
   "cell_type": "code",
   "execution_count": 9,
   "metadata": {},
   "outputs": [
    {
     "data": {
      "text/plain": [
       "48.529411764705884"
      ]
     },
     "execution_count": 9,
     "metadata": {},
     "output_type": "execute_result"
    }
   ],
   "source": [
    "(gc/total)*100"
   ]
  },
  {
   "cell_type": "markdown",
   "metadata": {},
   "source": [
    "## 4. Сравним в двух белках по Sequence2 и Sequence3\n",
    "### а) GС состав"
   ]
  },
  {
   "cell_type": "code",
   "execution_count": null,
   "metadata": {},
   "outputs": [
    {
     "name": "stdout",
     "output_type": "stream",
     "text": [
      "141\n",
      "65\n",
      "0.46099290780141844\n"
     ]
    }
   ],
   "source": [
    "# with open('Sequence2.txt') as sequence2"
   ]
  },
  {
   "cell_type": "code",
   "execution_count": null,
   "metadata": {},
   "outputs": [
    {
     "name": "stdout",
     "output_type": "stream",
     "text": [
      "141\n",
      "65\n",
      "0.46099290780141844\n"
     ]
    }
   ],
   "source": [
    "# with open('Sequence3.txt') as sequence3:\n"
   ]
  },
  {
   "cell_type": "markdown",
   "metadata": {},
   "source": [
    "### б) встречаемость кодонов для глицина (G) и аланина (А)"
   ]
  },
  {
   "cell_type": "code",
   "execution_count": 11,
   "metadata": {},
   "outputs": [
    {
     "name": "stdout",
     "output_type": "stream",
     "text": [
      "G in sequence 8 times\n",
      "A in sequence 3 times\n"
     ]
    }
   ],
   "source": [
    "for aa in 'GA':\n",
    "    count_ = codon1.codon_counter.get(aa, 0)\n",
    "    print(f'{aa} in sequence {count_} times')\n"
   ]
  },
  {
   "cell_type": "markdown",
   "metadata": {},
   "source": [
    "## 5*. \n",
    "В ДНК последовательностях Sequence1_1, Sequence1_2, Sequence1_3 обнаружить\n",
    "неоднозначные нуклеотиды и определить варианты изменения белкового кода и\n",
    "вывести результирющие белковые последовательности."
   ]
  },
  {
   "cell_type": "code",
   "execution_count": 5,
   "metadata": {},
   "outputs": [],
   "source": [
    "seq1_2 = Sequence('data/Sequence1_2.txt')\n",
    "seq1_3 = Sequence('data/Sequence1_3.txt')"
   ]
  },
  {
   "cell_type": "code",
   "execution_count": 7,
   "metadata": {},
   "outputs": [
    {
     "data": {
      "text/plain": [
       "MRTSYLLLFTLCLLLSEMASGGNFLTGLGHRSDHYNCVSSGGQMRTSYLLLFTLCLLLSEMASGGNFLTGLGHRSDHYNCVSSGGQY\n",
       "MRTSYLLLFTLCLLLSEMASGGNFLTGLGHRSDHYNCVSSGGQMRTSYLLLFTLCLLLSEMASGGNFLTGLGHRSDHYNCVSSGGQS\n",
       "MRTSYLLLFTLCLLLSEMASGGNFLTGLGHRSDHYNCVSSGGQMRTSYLLLFTLCLLLSEMASGGNFLTGLGHRSDHYNCVSSGGQF"
      ]
     },
     "execution_count": 7,
     "metadata": {},
     "output_type": "execute_result"
    }
   ],
   "source": [
    "seq1_3"
   ]
  },
  {
   "cell_type": "code",
   "execution_count": 2,
   "metadata": {},
   "outputs": [],
   "source": [
    "seq1_4 = Sequence('data/Sequence1_4.txt')"
   ]
  },
  {
   "cell_type": "code",
   "execution_count": 3,
   "metadata": {},
   "outputs": [
    {
     "data": {
      "text/plain": [
       "{'N': [71, 129], 'H': [130]}"
      ]
     },
     "execution_count": 3,
     "metadata": {},
     "output_type": "execute_result"
    }
   ],
   "source": [
    "seq1_4.ambiguous_nucleotides"
   ]
  },
  {
   "cell_type": "code",
   "execution_count": 4,
   "metadata": {},
   "outputs": [
    {
     "data": {
      "text/plain": [
       "'N'"
      ]
     },
     "execution_count": 4,
     "metadata": {},
     "output_type": "execute_result"
    }
   ],
   "source": [
    "seq1_4.seq[71]"
   ]
  },
  {
   "cell_type": "markdown",
   "metadata": {},
   "source": [
    "## 6*.\n",
    "В последовательности Sequence4 найти старт и стоп кодоны, определить рамку\n",
    "считывания, количество аминокислот в белке и вывести последовательность белка"
   ]
  },
  {
   "cell_type": "code",
   "execution_count": 6,
   "metadata": {},
   "outputs": [],
   "source": [
    "seq4 = Sequence('data/Sequence5.txt')"
   ]
  },
  {
   "cell_type": "code",
   "execution_count": 7,
   "metadata": {},
   "outputs": [
    {
     "data": {
      "text/plain": [
       "KPLSAQPPKEPASPQFLKSWVLPASRHENFLPSAVYSLLTFV_DGLRW_LSHRPWPQI_SLQLRQQWRAMSLFCLPDLYQNSRHLLQREGQVLQVSWE_PEEMTQK_NELFISILLIKENCF_SI"
      ]
     },
     "execution_count": 7,
     "metadata": {},
     "output_type": "execute_result"
    }
   ],
   "source": [
    "seq4"
   ]
  },
  {
   "cell_type": "code",
   "execution_count": 11,
   "metadata": {},
   "outputs": [
    {
     "name": "stdout",
     "output_type": "stream",
     "text": [
      "42 _\n",
      "48 _\n",
      "58 _\n",
      "69 M\n",
      "98 _\n",
      "102 M\n",
      "106 _\n",
      "122 _\n"
     ]
    }
   ],
   "source": [
    "for i, c in enumerate(seq4.multisequence[0]):\n",
    "    if c in 'M_':\n",
    "        print(i, c)\n"
   ]
  },
  {
   "cell_type": "code",
   "execution_count": 12,
   "metadata": {},
   "outputs": [
    {
     "data": {
      "text/plain": [
       "'AAGCCTCTGTCAGCTCAGCCTCCAAAGGAGCCAGCGTCTCCCCAGTTCCTGAAATCCTGGGTGTTGCCTGCCAGTCGCCATGAGAACTTCCTACCTTCTGCTGTTTACTCTCTGCTTACTTTTGTCTGAGATGGCCTCAGGTGGTAACTTTCTCACAGGCCTTGGCCACAGATCTGATCATTACAATTGCGTCAGCAGTGGAGGGCAATGTCTCTATTCTGCCTGCCCGATCTTTACCAAAATTCAAGGCACCTGTTACAGAGGGAAGGCCAAGTGCTGCAAGTGAGCTGGGAGTGACCAGAAGAAATGACGCAGAAGTGAAATGAACTTTTTATAAGCATTCTTTTAATAAAGGAAAATTGCTTTTGAAGTATA'"
      ]
     },
     "execution_count": 12,
     "metadata": {},
     "output_type": "execute_result"
    }
   ],
   "source": [
    "seq4.seq"
   ]
  },
  {
   "cell_type": "code",
   "execution_count": null,
   "metadata": {},
   "outputs": [],
   "source": []
  }
 ],
 "metadata": {
  "interpreter": {
   "hash": "58af737c19faf95023ee7e701c93b348376655526bddd4c4acd100bc5dfb13ba"
  },
  "kernelspec": {
   "display_name": "Python 3.8.11 64-bit ('masterenv': conda)",
   "name": "python3"
  },
  "language_info": {
   "codemirror_mode": {
    "name": "ipython",
    "version": 3
   },
   "file_extension": ".py",
   "mimetype": "text/x-python",
   "name": "python",
   "nbconvert_exporter": "python",
   "pygments_lexer": "ipython3",
   "version": "3.8.11"
  },
  "orig_nbformat": 4
 },
 "nbformat": 4,
 "nbformat_minor": 2
}
